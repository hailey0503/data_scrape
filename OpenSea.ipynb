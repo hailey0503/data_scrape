{
 "cells": [
  {
   "cell_type": "code",
   "execution_count": 41,
   "metadata": {},
   "outputs": [
    {
     "ename": "TimeoutException",
     "evalue": "Message: \nStacktrace:\n0   chromedriver                        0x0000000102832f44 chromedriver + 3813188\n1   chromedriver                        0x00000001027c4ae0 chromedriver + 3361504\n2   chromedriver                        0x00000001024c8c5c chromedriver + 232540\n3   chromedriver                        0x00000001024fa380 chromedriver + 435072\n4   chromedriver                        0x0000000102527f44 chromedriver + 622404\n5   chromedriver                        0x00000001024ef358 chromedriver + 389976\n6   chromedriver                        0x00000001024f0284 chromedriver + 393860\n7   chromedriver                        0x0000000102806e18 chromedriver + 3632664\n8   chromedriver                        0x000000010280a97c chromedriver + 3647868\n9   chromedriver                        0x0000000102810b58 chromedriver + 3672920\n10  chromedriver                        0x000000010280b350 chromedriver + 3650384\n11  chromedriver                        0x00000001027e88dc chromedriver + 3508444\n12  chromedriver                        0x0000000102825914 chromedriver + 3758356\n13  chromedriver                        0x0000000102825a78 chromedriver + 3758712\n14  chromedriver                        0x00000001028396cc chromedriver + 3839692\n15  libsystem_pthread.dylib             0x0000000187c6b878 _pthread_start + 320\n16  libsystem_pthread.dylib             0x0000000187c665e0 thread_start + 8\n",
     "output_type": "error",
     "traceback": [
      "\u001b[0;31m---------------------------------------------------------------------------\u001b[0m",
      "\u001b[0;31mTimeoutException\u001b[0m                          Traceback (most recent call last)",
      "\u001b[0;32m<ipython-input-41-64fb8d99feea>\u001b[0m in \u001b[0;36m<module>\u001b[0;34m\u001b[0m\n\u001b[1;32m     49\u001b[0m \u001b[0mbrowser\u001b[0m\u001b[0;34m.\u001b[0m\u001b[0mget\u001b[0m\u001b[0;34m(\u001b[0m\u001b[0murl\u001b[0m\u001b[0;34m)\u001b[0m\u001b[0;34m\u001b[0m\u001b[0;34m\u001b[0m\u001b[0m\n\u001b[1;32m     50\u001b[0m element = WebDriverWait(driver=browser, timeout=5).until(\n\u001b[0;32m---> 51\u001b[0;31m     \u001b[0mEC\u001b[0m\u001b[0;34m.\u001b[0m\u001b[0mpresence_of_element_located\u001b[0m\u001b[0;34m(\u001b[0m\u001b[0;34m(\u001b[0m\u001b[0mBy\u001b[0m\u001b[0;34m.\u001b[0m\u001b[0mCSS_SELECTOR\u001b[0m\u001b[0;34m,\u001b[0m \u001b[0;34m'div[role=listitem]'\u001b[0m\u001b[0;34m)\u001b[0m\u001b[0;34m)\u001b[0m\u001b[0;34m\u001b[0m\u001b[0;34m\u001b[0m\u001b[0m\n\u001b[0m\u001b[1;32m     52\u001b[0m )\n\u001b[1;32m     53\u001b[0m \u001b[0;34m\u001b[0m\u001b[0m\n",
      "\u001b[0;32m~/Library/Python/3.7/lib/python/site-packages/selenium/webdriver/support/wait.py\u001b[0m in \u001b[0;36muntil\u001b[0;34m(self, method, message)\u001b[0m\n\u001b[1;32m     88\u001b[0m             \u001b[0;32mif\u001b[0m \u001b[0mtime\u001b[0m\u001b[0;34m.\u001b[0m\u001b[0mmonotonic\u001b[0m\u001b[0;34m(\u001b[0m\u001b[0;34m)\u001b[0m \u001b[0;34m>\u001b[0m \u001b[0mend_time\u001b[0m\u001b[0;34m:\u001b[0m\u001b[0;34m\u001b[0m\u001b[0;34m\u001b[0m\u001b[0m\n\u001b[1;32m     89\u001b[0m                 \u001b[0;32mbreak\u001b[0m\u001b[0;34m\u001b[0m\u001b[0;34m\u001b[0m\u001b[0m\n\u001b[0;32m---> 90\u001b[0;31m         \u001b[0;32mraise\u001b[0m \u001b[0mTimeoutException\u001b[0m\u001b[0;34m(\u001b[0m\u001b[0mmessage\u001b[0m\u001b[0;34m,\u001b[0m \u001b[0mscreen\u001b[0m\u001b[0;34m,\u001b[0m \u001b[0mstacktrace\u001b[0m\u001b[0;34m)\u001b[0m\u001b[0;34m\u001b[0m\u001b[0;34m\u001b[0m\u001b[0m\n\u001b[0m\u001b[1;32m     91\u001b[0m \u001b[0;34m\u001b[0m\u001b[0m\n\u001b[1;32m     92\u001b[0m     \u001b[0;32mdef\u001b[0m \u001b[0muntil_not\u001b[0m\u001b[0;34m(\u001b[0m\u001b[0mself\u001b[0m\u001b[0;34m,\u001b[0m \u001b[0mmethod\u001b[0m\u001b[0;34m,\u001b[0m \u001b[0mmessage\u001b[0m\u001b[0;34m:\u001b[0m \u001b[0mstr\u001b[0m \u001b[0;34m=\u001b[0m \u001b[0;34m\"\"\u001b[0m\u001b[0;34m)\u001b[0m\u001b[0;34m:\u001b[0m\u001b[0;34m\u001b[0m\u001b[0;34m\u001b[0m\u001b[0m\n",
      "\u001b[0;31mTimeoutException\u001b[0m: Message: \nStacktrace:\n0   chromedriver                        0x0000000102832f44 chromedriver + 3813188\n1   chromedriver                        0x00000001027c4ae0 chromedriver + 3361504\n2   chromedriver                        0x00000001024c8c5c chromedriver + 232540\n3   chromedriver                        0x00000001024fa380 chromedriver + 435072\n4   chromedriver                        0x0000000102527f44 chromedriver + 622404\n5   chromedriver                        0x00000001024ef358 chromedriver + 389976\n6   chromedriver                        0x00000001024f0284 chromedriver + 393860\n7   chromedriver                        0x0000000102806e18 chromedriver + 3632664\n8   chromedriver                        0x000000010280a97c chromedriver + 3647868\n9   chromedriver                        0x0000000102810b58 chromedriver + 3672920\n10  chromedriver                        0x000000010280b350 chromedriver + 3650384\n11  chromedriver                        0x00000001027e88dc chromedriver + 3508444\n12  chromedriver                        0x0000000102825914 chromedriver + 3758356\n13  chromedriver                        0x0000000102825a78 chromedriver + 3758712\n14  chromedriver                        0x00000001028396cc chromedriver + 3839692\n15  libsystem_pthread.dylib             0x0000000187c6b878 _pthread_start + 320\n16  libsystem_pthread.dylib             0x0000000187c665e0 thread_start + 8\n"
     ]
    }
   ],
   "source": [
    "# https://opensea.io/\n",
    "\n",
    "import time\n",
    "from bs4 import BeautifulSoup\n",
    "from urllib.parse import urljoin\n",
    "from selenium import webdriver\n",
    "from selenium.webdriver.chrome.service import Service\n",
    "from selenium.webdriver.common.by import By\n",
    "from selenium.webdriver.chrome.options import Options\n",
    "from selenium.webdriver.support.ui import WebDriverWait\n",
    "from selenium.webdriver.support import expected_conditions as EC\n",
    "import os.path\n",
    "\n",
    "def parseItems(list_items):\n",
    "    for item in list_items:\n",
    "        row = item.find(role=\"row\")\n",
    "        rank = row.select_one('div > div:nth-child(2)').get_text()\n",
    "        [collection_name, floor_price] = row.select_one('div > div:nth-child(5)').get_text().split('Floor:')\n",
    "        collection_data.append([rank, collection_name, floor_price])\n",
    "        \n",
    "        \n",
    "\n",
    "def createCSV(data):\n",
    "    fields = [\"rank\", \"collection_name\", \"floor_price\"]\n",
    "    # open the file in the write mode\n",
    "    filename = \"opensea.csv\"\n",
    "    with open(filename, 'w') as csvfile:\n",
    "        # create the csv writer\n",
    "        csvwriter = csv.writer(csvfile) \n",
    "        csvwriter.writerow(fields) \n",
    "        # writing the data rows \n",
    "        csvwriter.writerows(data)\n",
    "        \n",
    "        \n",
    "## Setup chrome options\n",
    "chrome_options = Options()\n",
    "chrome_options.add_argument(\"--headless\") # Ensure GUI is off\n",
    "chrome_options.add_argument(\"--no-sandbox\")\n",
    "chrome_options.add_argument(\"--window-size=1920,1080\")\n",
    "user_agent = 'Mozilla/5.0 (X11; Linux x86_64) AppleWebKit/537.36 (KHTML, like Gecko) Chrome/106.0.0.0 Safari/537.36'\n",
    "chrome_options.add_argument(f'user-agent={user_agent}')\n",
    "\n",
    "# Set path to chromedriver as per your configuration\n",
    "homedir = os.path.expanduser(\"~\")\n",
    "webdriver_service = Service(f\"/usr/local/bin/chromedriver\")\n",
    "\n",
    "# Choose Chrome Browser\n",
    "browser = webdriver.Chrome(service=webdriver_service, options=chrome_options)\n",
    "\n",
    "url = \"https://opensea.io/\"\n",
    "browser.get(url)\n",
    "element = WebDriverWait(driver=browser, timeout=5).until(\n",
    "    EC.presence_of_element_located((By.CSS_SELECTOR, 'div[role=listitem]'))\n",
    ")\n",
    "\n",
    "# save screenshot to check\n",
    "#browser.save_screenshot(\"ss.png\")\n",
    "\n",
    "soup = BeautifulSoup(browser.page_source, 'html.parser')\n",
    "list_items = soup.find_all(role=\"listitem\")\n",
    "\n",
    "collection_data = []\n",
    "parseItems(list_items)\n",
    "\n",
    "# create a csv file and write data on it\n",
    "createCSV(collection_data)\n",
    "\n",
    "browser.quit()"
   ]
  },
  {
   "cell_type": "code",
   "execution_count": null,
   "metadata": {},
   "outputs": [],
   "source": []
  },
  {
   "cell_type": "code",
   "execution_count": null,
   "metadata": {},
   "outputs": [],
   "source": []
  }
 ],
 "metadata": {
  "kernelspec": {
   "display_name": "Python 3",
   "language": "python",
   "name": "python3"
  },
  "language_info": {
   "codemirror_mode": {
    "name": "ipython",
    "version": 3
   },
   "file_extension": ".py",
   "mimetype": "text/x-python",
   "name": "python",
   "nbconvert_exporter": "python",
   "pygments_lexer": "ipython3",
   "version": "3.7.9"
  }
 },
 "nbformat": 4,
 "nbformat_minor": 2
}
